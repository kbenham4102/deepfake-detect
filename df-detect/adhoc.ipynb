{
 "cells": [
  {
   "cell_type": "code",
   "execution_count": 1,
   "metadata": {},
   "outputs": [],
   "source": [
    "import pandas as pd\n",
    "from utils import load_process_train_targets"
   ]
  },
  {
   "cell_type": "code",
   "execution_count": 2,
   "metadata": {},
   "outputs": [],
   "source": [
    "df = load_process_train_targets('../data/source/labels/master_meta.json', '/home/kevin/Downloads/deepfakes/')"
   ]
  },
  {
   "cell_type": "code",
   "execution_count": 3,
   "metadata": {},
   "outputs": [
    {
     "data": {
      "text/html": [
       "<div>\n",
       "<style scoped>\n",
       "    .dataframe tbody tr th:only-of-type {\n",
       "        vertical-align: middle;\n",
       "    }\n",
       "\n",
       "    .dataframe tbody tr th {\n",
       "        vertical-align: top;\n",
       "    }\n",
       "\n",
       "    .dataframe thead th {\n",
       "        text-align: right;\n",
       "    }\n",
       "</style>\n",
       "<table border=\"1\" class=\"dataframe\">\n",
       "  <thead>\n",
       "    <tr style=\"text-align: right;\">\n",
       "      <th></th>\n",
       "      <th>split</th>\n",
       "      <th>target_class</th>\n",
       "      <th>filepath</th>\n",
       "    </tr>\n",
       "  </thead>\n",
       "  <tbody>\n",
       "    <tr>\n",
       "      <th>0</th>\n",
       "      <td>train</td>\n",
       "      <td>1.0</td>\n",
       "      <td>/home/kevin/Downloads/deepfakes/sgleazzkwf.mp4</td>\n",
       "    </tr>\n",
       "    <tr>\n",
       "      <th>1</th>\n",
       "      <td>train</td>\n",
       "      <td>1.0</td>\n",
       "      <td>/home/kevin/Downloads/deepfakes/tulxkqjvty.mp4</td>\n",
       "    </tr>\n",
       "    <tr>\n",
       "      <th>2</th>\n",
       "      <td>train</td>\n",
       "      <td>1.0</td>\n",
       "      <td>/home/kevin/Downloads/deepfakes/ozyddamcsi.mp4</td>\n",
       "    </tr>\n",
       "    <tr>\n",
       "      <th>3</th>\n",
       "      <td>train</td>\n",
       "      <td>1.0</td>\n",
       "      <td>/home/kevin/Downloads/deepfakes/xsxbdrtvmp.mp4</td>\n",
       "    </tr>\n",
       "    <tr>\n",
       "      <th>4</th>\n",
       "      <td>train</td>\n",
       "      <td>1.0</td>\n",
       "      <td>/home/kevin/Downloads/deepfakes/coedpbayuc.mp4</td>\n",
       "    </tr>\n",
       "    <tr>\n",
       "      <th>...</th>\n",
       "      <td>...</td>\n",
       "      <td>...</td>\n",
       "      <td>...</td>\n",
       "    </tr>\n",
       "    <tr>\n",
       "      <th>84334</th>\n",
       "      <td>train</td>\n",
       "      <td>1.0</td>\n",
       "      <td>/home/kevin/Downloads/deepfakes/midpeunjaz.mp4</td>\n",
       "    </tr>\n",
       "    <tr>\n",
       "      <th>84335</th>\n",
       "      <td>train</td>\n",
       "      <td>1.0</td>\n",
       "      <td>/home/kevin/Downloads/deepfakes/cdawymhaak.mp4</td>\n",
       "    </tr>\n",
       "    <tr>\n",
       "      <th>84336</th>\n",
       "      <td>train</td>\n",
       "      <td>1.0</td>\n",
       "      <td>/home/kevin/Downloads/deepfakes/kyxmtfyceu.mp4</td>\n",
       "    </tr>\n",
       "    <tr>\n",
       "      <th>84337</th>\n",
       "      <td>train</td>\n",
       "      <td>0.0</td>\n",
       "      <td>/home/kevin/Downloads/deepfakes/aahncigwte.mp4</td>\n",
       "    </tr>\n",
       "    <tr>\n",
       "      <th>84338</th>\n",
       "      <td>train</td>\n",
       "      <td>1.0</td>\n",
       "      <td>/home/kevin/Downloads/deepfakes/jdnizohssx.mp4</td>\n",
       "    </tr>\n",
       "  </tbody>\n",
       "</table>\n",
       "<p>84339 rows × 3 columns</p>\n",
       "</div>"
      ],
      "text/plain": [
       "       split  target_class                                        filepath\n",
       "0      train           1.0  /home/kevin/Downloads/deepfakes/sgleazzkwf.mp4\n",
       "1      train           1.0  /home/kevin/Downloads/deepfakes/tulxkqjvty.mp4\n",
       "2      train           1.0  /home/kevin/Downloads/deepfakes/ozyddamcsi.mp4\n",
       "3      train           1.0  /home/kevin/Downloads/deepfakes/xsxbdrtvmp.mp4\n",
       "4      train           1.0  /home/kevin/Downloads/deepfakes/coedpbayuc.mp4\n",
       "...      ...           ...                                             ...\n",
       "84334  train           1.0  /home/kevin/Downloads/deepfakes/midpeunjaz.mp4\n",
       "84335  train           1.0  /home/kevin/Downloads/deepfakes/cdawymhaak.mp4\n",
       "84336  train           1.0  /home/kevin/Downloads/deepfakes/kyxmtfyceu.mp4\n",
       "84337  train           0.0  /home/kevin/Downloads/deepfakes/aahncigwte.mp4\n",
       "84338  train           1.0  /home/kevin/Downloads/deepfakes/jdnizohssx.mp4\n",
       "\n",
       "[84339 rows x 3 columns]"
      ]
     },
     "execution_count": 3,
     "metadata": {},
     "output_type": "execute_result"
    }
   ],
   "source": [
    "df"
   ]
  },
  {
   "cell_type": "code",
   "execution_count": 6,
   "metadata": {},
   "outputs": [
    {
     "data": {
      "text/plain": [
       "84339"
      ]
     },
     "execution_count": 6,
     "metadata": {},
     "output_type": "execute_result"
    }
   ],
   "source": [
    "len(df.filepath.unique())"
   ]
  },
  {
   "cell_type": "code",
   "execution_count": null,
   "metadata": {},
   "outputs": [],
   "source": []
  }
 ],
 "metadata": {
  "kernelspec": {
   "display_name": "Python 3",
   "language": "python",
   "name": "python3"
  },
  "language_info": {
   "codemirror_mode": {
    "name": "ipython",
    "version": 3
   },
   "file_extension": ".py",
   "mimetype": "text/x-python",
   "name": "python",
   "nbconvert_exporter": "python",
   "pygments_lexer": "ipython3",
   "version": "3.6.9"
  }
 },
 "nbformat": 4,
 "nbformat_minor": 4
}
