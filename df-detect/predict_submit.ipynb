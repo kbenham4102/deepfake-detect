{
 "cells": [
  {
   "cell_type": "code",
   "execution_count": 1,
   "metadata": {},
   "outputs": [],
   "source": [
    "import tensorflow as tf\n",
    "import numpy as np\n",
    "from model import *\n",
    "import glob\n",
    "from video_loader import DeepFakeTransformer\n",
    "import pathlib"
   ]
  },
  {
   "cell_type": "code",
   "execution_count": 2,
   "metadata": {},
   "outputs": [],
   "source": [
    "val_root = '../data/source/train_val_sort/val'\n",
    "checkpoint_prefix = 'models/ckpt_{epoch}'\n",
    "loss = tf.keras.losses.BinaryCrossentropy(from_logits=True)"
   ]
  },
  {
   "cell_type": "code",
   "execution_count": 3,
   "metadata": {},
   "outputs": [],
   "source": [
    "model = tf.keras.models.Sequential()\n",
    "model.add(ConvLSTM2D(32, (3,3), strides=(2,2), \n",
    "                            padding='valid', \n",
    "                            data_format='channels_last',\n",
    "                            return_sequences=True))\n",
    "model.add(ConvLSTM2D(32, (3,3), strides=(2,2), \n",
    "                            padding='valid', \n",
    "                            data_format='channels_last',\n",
    "                            return_sequences=True,\n",
    "                            ))\n",
    "model.add(ConvLSTM2D(32, (3,3), strides=(2,2), \n",
    "                            padding='valid', \n",
    "                            data_format='channels_last',\n",
    "                            return_sequences=True,\n",
    "                            ))\n",
    "model.add(ConvLSTM2D(32, (3,3), strides=(2,2), \n",
    "                            padding='valid', \n",
    "                            data_format='channels_last', \n",
    "                            return_sequences=False,\n",
    "                            ))\n",
    "model.add(Conv2D(16 , (3,3), strides=(2,2), \n",
    "                        padding='valid', data_format='channels_last',\n",
    "                        activation='relu'))\n",
    "model.add(BatchNormalization())\n",
    "model.add(Conv2D(16 , (3,3), strides=(2,2), \n",
    "                        padding='valid', data_format='channels_last',\n",
    "                        activation='relu'))\n",
    "model.add(Flatten())\n",
    "model.add(Dense(1,\n",
    "                activation='sigmoid'))"
   ]
  },
  {
   "cell_type": "code",
   "execution_count": 4,
   "metadata": {},
   "outputs": [],
   "source": [
    "model.load_weights('models/model_0304_1000_steps_01_reg/ckpt_9')\n",
    "model.build((None,None,224,224,3))"
   ]
  },
  {
   "cell_type": "code",
   "execution_count": 10,
   "metadata": {},
   "outputs": [],
   "source": [
    "val_ds = tf.data.Dataset.list_files(str(pathlib.Path(val_root)/'*/*'))\n",
    "val_ds = val_ds.shuffle(10000)\n",
    "val_transformer = DeepFakeTransformer(resize_shape=(224,224), seq_length=30)"
   ]
  },
  {
   "cell_type": "code",
   "execution_count": 11,
   "metadata": {},
   "outputs": [],
   "source": [
    "val_ds = val_ds.map(lambda x: val_transformer.transform_map(x))\n",
    "val_ds = val_ds.padded_batch(4, padded_shapes=(None)).prefetch(2)"
   ]
  },
  {
   "cell_type": "code",
   "execution_count": 7,
   "metadata": {},
   "outputs": [
    {
     "data": {
      "text/plain": [
       "array([[0.8483074],\n",
       "       [0.8483074],\n",
       "       [0.8483074],\n",
       "       [0.8483074],\n",
       "       [0.8483074],\n",
       "       [0.8483074],\n",
       "       [0.8483074],\n",
       "       [0.8483074]], dtype=float32)"
      ]
     },
     "execution_count": 7,
     "metadata": {},
     "output_type": "execute_result"
    }
   ],
   "source": [
    "model.predict(val_ds, steps=2)"
   ]
  },
  {
   "cell_type": "code",
   "execution_count": 8,
   "metadata": {},
   "outputs": [],
   "source": [
    "model.compile(loss=loss)\n"
   ]
  },
  {
   "cell_type": "code",
   "execution_count": 12,
   "metadata": {},
   "outputs": [
    {
     "name": "stdout",
     "output_type": "stream",
     "text": [
      "10/10 [==============================] - 54s 5s/step - loss: 0.4212\n"
     ]
    },
    {
     "data": {
      "text/plain": [
       "0.42118564"
      ]
     },
     "execution_count": 12,
     "metadata": {},
     "output_type": "execute_result"
    }
   ],
   "source": [
    "model.evaluate(val_ds, steps=10)"
   ]
  },
  {
   "cell_type": "code",
   "execution_count": 16,
   "metadata": {},
   "outputs": [
    {
     "data": {
      "text/plain": [
       "array([ 97,  96, 159, 148, 215, 276, 295,  70, 190, 276, 291, 211,  68,\n",
       "        50, 147, 162,  88, 102, 110, 200, 198, 238, 141, 146,  34, 220,\n",
       "        47, 282,  65, 235])"
      ]
     },
     "execution_count": 16,
     "metadata": {},
     "output_type": "execute_result"
    }
   ],
   "source": [
    "np.random.choice(np.arange(0, 300), 30)"
   ]
  },
  {
   "cell_type": "code",
   "execution_count": null,
   "metadata": {},
   "outputs": [],
   "source": []
  }
 ],
 "metadata": {
  "kernelspec": {
   "display_name": "Python 3",
   "language": "python",
   "name": "python3"
  },
  "language_info": {
   "codemirror_mode": {
    "name": "ipython",
    "version": 3
   },
   "file_extension": ".py",
   "mimetype": "text/x-python",
   "name": "python",
   "nbconvert_exporter": "python",
   "pygments_lexer": "ipython3",
   "version": "3.6.9"
  }
 },
 "nbformat": 4,
 "nbformat_minor": 4
}
